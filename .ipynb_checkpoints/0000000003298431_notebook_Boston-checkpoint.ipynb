{
 "cells": [
  {
   "cell_type": "code",
   "execution_count": 1,
   "metadata": {},
   "outputs": [],
   "source": [
    "import pandas as pd\n",
    "import numpy as np"
   ]
  },
  {
   "cell_type": "code",
   "execution_count": 2,
   "metadata": {},
   "outputs": [],
   "source": [
    "data = pd.read_csv(\"train.csv\")\n"
   ]
  },
  {
   "cell_type": "code",
   "execution_count": 3,
   "metadata": {},
   "outputs": [],
   "source": [
    "def stepGd(X , Y , learning_rate , theta):\n",
    "    M = len(X)\n",
    "    temp = Y - np.dot(X , theta)\n",
    "    temp = np.dot(X.T , temp)\n",
    "    temp = (-2/M)*temp\n",
    "    theta = (theta - learning_rate*temp)\n",
    "    return theta"
   ]
  },
  {
   "cell_type": "code",
   "execution_count": 4,
   "metadata": {},
   "outputs": [],
   "source": [
    "def cost(X , Y , theta):\n",
    "    M = len(X)\n",
    "    return (1/M)*((Y - np.dot(X,theta))**2).sum()"
   ]
  },
  {
   "cell_type": "code",
   "execution_count": 5,
   "metadata": {},
   "outputs": [],
   "source": [
    "def gd(X , Y , learning_rate , itr):\n",
    "    theta = np.zeros(X.shape[1]).reshape(X.shape[1] , 1) \n",
    "    for i in range(itr):\n",
    "        theta = stepGd(X , Y , learning_rate , theta)\n",
    "        #print(cost(X , Y , theta))\n",
    "    return theta"
   ]
  },
  {
   "cell_type": "code",
   "execution_count": 6,
   "metadata": {},
   "outputs": [],
   "source": [
    "def run():\n",
    "    Y = data.iloc[: , 13]\n",
    "    \n",
    "    X = data.iloc[: , 0:13]\n",
    "    y = Y.values.reshape(X.shape[0] , 1) \n",
    "    X['1'] = X[' ZN'] - X[' ZN'] + 1\n",
    "    learning_rate = .1\n",
    "    n_iterations = 100\n",
    "    theta = gd(X , y  , learning_rate , n_iterations)\n",
    "    \n",
    "    return theta"
   ]
  },
  {
   "cell_type": "code",
   "execution_count": 7,
   "metadata": {},
   "outputs": [],
   "source": [
    "theta = run()"
   ]
  },
  {
   "cell_type": "code",
   "execution_count": 11,
   "metadata": {},
   "outputs": [
    {
     "data": {
      "text/plain": [
       "array([[12.31524272],\n",
       "       [28.87480034],\n",
       "       [22.4016698 ],\n",
       "       [24.34160074],\n",
       "       [20.86314361],\n",
       "       [ 2.78058049],\n",
       "       [30.05230273],\n",
       "       [24.74096969],\n",
       "       [18.74225648],\n",
       "       [23.52173671],\n",
       "       [24.15360396],\n",
       "       [17.8010363 ],\n",
       "       [17.86755042],\n",
       "       [21.78965024],\n",
       "       [42.44670081],\n",
       "       [24.00056526],\n",
       "       [24.46817621],\n",
       "       [27.69832225],\n",
       "       [20.36536797],\n",
       "       [31.33158133],\n",
       "       [24.05799265],\n",
       "       [24.92845847],\n",
       "       [33.91294287],\n",
       "       [36.29423427],\n",
       "       [32.15352195],\n",
       "       [16.52407217],\n",
       "       [23.45242679],\n",
       "       [33.15033523],\n",
       "       [24.9439945 ],\n",
       "       [33.67322283],\n",
       "       [16.9915068 ],\n",
       "       [26.18522146],\n",
       "       [23.34248582],\n",
       "       [25.45545001],\n",
       "       [14.99458289],\n",
       "       [29.61618829],\n",
       "       [26.22827288],\n",
       "       [20.59811159],\n",
       "       [24.26934028],\n",
       "       [ 9.46268133],\n",
       "       [ 8.19991068],\n",
       "       [28.90459989],\n",
       "       [29.65198707],\n",
       "       [19.88634409],\n",
       "       [20.3217879 ],\n",
       "       [ 3.0400277 ],\n",
       "       [39.50927813],\n",
       "       [25.73490796],\n",
       "       [30.08358211],\n",
       "       [16.79154413],\n",
       "       [17.82281873],\n",
       "       [40.61947938],\n",
       "       [17.56949023],\n",
       "       [21.08255145],\n",
       "       [15.69300366],\n",
       "       [21.2989767 ],\n",
       "       [18.45743835],\n",
       "       [23.15568782],\n",
       "       [13.76479056],\n",
       "       [17.1957913 ],\n",
       "       [15.11656327],\n",
       "       [29.16497278],\n",
       "       [25.32646994],\n",
       "       [25.51527164],\n",
       "       [17.11423637],\n",
       "       [17.33011392],\n",
       "       [34.6595728 ],\n",
       "       [16.98727856],\n",
       "       [26.90316549],\n",
       "       [22.46080429],\n",
       "       [29.44459848],\n",
       "       [27.05236699],\n",
       "       [17.85683982],\n",
       "       [ 5.65875084],\n",
       "       [36.57950148],\n",
       "       [25.12479631],\n",
       "       [29.91499064],\n",
       "       [27.06292142],\n",
       "       [16.19721896],\n",
       "       [32.74806106],\n",
       "       [19.27210145],\n",
       "       [22.88206278],\n",
       "       [22.81630384],\n",
       "       [ 8.40586205],\n",
       "       [17.32621713],\n",
       "       [29.27318471],\n",
       "       [27.13053551],\n",
       "       [ 5.77608196],\n",
       "       [21.17606014],\n",
       "       [20.04660011],\n",
       "       [22.14382513],\n",
       "       [20.71378178],\n",
       "       [21.10209019],\n",
       "       [13.17645625],\n",
       "       [19.81146343],\n",
       "       [26.13860298],\n",
       "       [40.10792075],\n",
       "       [19.02919077],\n",
       "       [33.5434259 ],\n",
       "       [26.99537796],\n",
       "       [28.61817142],\n",
       "       [22.09094502],\n",
       "       [25.75358049],\n",
       "       [31.40193429],\n",
       "       [17.17496221],\n",
       "       [26.35227709],\n",
       "       [21.63359139],\n",
       "       [36.93758883],\n",
       "       [21.93046389],\n",
       "       [16.71321603],\n",
       "       [27.7353982 ],\n",
       "       [-0.22798114],\n",
       "       [14.03264903],\n",
       "       [16.14916908],\n",
       "       [35.75453304],\n",
       "       [21.11898397],\n",
       "       [20.91249272],\n",
       "       [25.2680792 ],\n",
       "       [21.9844345 ],\n",
       "       [18.93687244],\n",
       "       [13.59484239],\n",
       "       [35.36193265],\n",
       "       [23.2045459 ],\n",
       "       [24.80117377],\n",
       "       [17.91085646],\n",
       "       [20.95032334],\n",
       "       [14.84915959]])"
      ]
     },
     "execution_count": 11,
     "metadata": {},
     "output_type": "execute_result"
    }
   ],
   "source": [
    "test = pd.read_csv(\"test.csv\" , header = None)\n",
    "test.columns = data.columns[0:13]\n",
    "test['1'] = test[' ZN'] - test[' ZN'] + 1\n",
    "Y_pred = np.dot(test , theta)\n",
    "Y_pred"
   ]
  },
  {
   "cell_type": "code",
   "execution_count": 18,
   "metadata": {},
   "outputs": [],
   "source": [
    "fp = open('Predictions1.csv', 'w')\n",
    "for i in range(Y_pred.shape[0]):\n",
    "    fp.write(str(Y_pred[i][0]) + '\\n')\n",
    "fp.close()"
   ]
  },
  {
   "cell_type": "code",
   "execution_count": 9,
   "metadata": {},
   "outputs": [],
   "source": []
  },
  {
   "cell_type": "code",
   "execution_count": 12,
   "metadata": {},
   "outputs": [
    {
     "data": {
      "text/plain": [
       "(127, 1)"
      ]
     },
     "execution_count": 12,
     "metadata": {},
     "output_type": "execute_result"
    }
   ],
   "source": [
    "Y_pred.shape"
   ]
  },
  {
   "cell_type": "code",
   "execution_count": null,
   "metadata": {},
   "outputs": [],
   "source": []
  },
  {
   "cell_type": "code",
   "execution_count": null,
   "metadata": {},
   "outputs": [],
   "source": []
  }
 ],
 "metadata": {
  "kernelspec": {
   "display_name": "Python 3",
   "language": "python",
   "name": "python3"
  },
  "language_info": {
   "codemirror_mode": {
    "name": "ipython",
    "version": 3
   },
   "file_extension": ".py",
   "mimetype": "text/x-python",
   "name": "python",
   "nbconvert_exporter": "python",
   "pygments_lexer": "ipython3",
   "version": "3.6.5"
  }
 },
 "nbformat": 4,
 "nbformat_minor": 2
}
